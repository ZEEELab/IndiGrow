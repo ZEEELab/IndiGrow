{
 "cells": [
  {
   "cell_type": "markdown",
   "metadata": {},
   "source": []
  },
  {
   "cell_type": "code",
   "execution_count": 94,
   "metadata": {},
   "outputs": [],
   "source": [
    "import numpy\n",
    "import networkx as nx\n",
    "import random\n",
    "\n",
    "def hamming_dist(n1, n2): \n",
    "    x = n1 ^ n2  \n",
    "    set_bits = 0\n",
    "\n",
    "    while (x > 0) : \n",
    "        set_bits += x & 1\n",
    "        x >>= 1\n",
    "    return set_bits\n",
    "\n",
    "def get_rough_mt_fuji(optimal_genotype, num_bits, cost_of_mismatch, noise_dist, **noise_dist_args):\n",
    "    #print(noise_dist(**noise_dist_args))\n",
    "    genotype_graph = nx.Graph(optimal_genotype=optimal_genotype, num_bits=num_bits)\n",
    "    fitnesses = numpy.zeros(2**num_bits)\n",
    "    for i in range(0, 2**num_bits):\n",
    "        distance_to_optimal = hamming_dist(i, optimal_genotype)\n",
    "        distance_to_unity = hamming_dist(i, 2**num_bits-1)\n",
    "        fitness = max(1 - cost_of_mismatch * distance_to_optimal + noise_dist(**noise_dist_args), 0.0001)\n",
    "        \n",
    "\n",
    "        genotype_graph.add_node(i, \n",
    "                                abundance=0,\n",
    "                                fitness=fitness,\n",
    "                                genotype_int=i, \n",
    "                                distance_to_opt=distance_to_optimal,\n",
    "                                distance_to_unity=distance_to_unity)\n",
    "\n",
    "        fitnesses[i] = fitness\n",
    "\n",
    "    for i in range(0, 2**num_bits):\n",
    "        for j in range(i, 2**num_bits):\n",
    "            if hamming_dist(i, j) == 1:  \n",
    "                genotype_graph.add_edge(i, j)\n",
    "\n",
    "    return genotype_graph, fitnesses\n",
    "\n",
    "\n",
    "class fuji:\n",
    "    def __init__(self, optimal_genotype, n):\n",
    "        self.optimal_genotype = optimal_genotype\n",
    "        graph, fitnesses = get_rough_mt_fuji(optimal_genotype, 10, .1, numpy.random.exponential, scale=0.0001, size=None)\n",
    "        self.n = n\n",
    "        self.fitnesses = fitnesses\n",
    "       \n",
    "\n",
    "    def fitness(self, genotype):\n",
    "        return self.fitnesses[genotype]\n",
    "\n"
   ]
  },
  {
   "cell_type": "code",
   "execution_count": 95,
   "metadata": {},
   "outputs": [
    {
     "output_type": "stream",
     "name": "stdout",
     "text": "1 <__main__.fuji object at 0x128a52a50>\n2 <__main__.fuji object at 0x126b2bf10>\n"
    }
   ],
   "source": [
    "from random import randint\n",
    "from backports.functools_lru_cache import lru_cache\n",
    "import numpy\n",
    "\n",
    "\n",
    "def binary(num, length):\n",
    "    return format(num, '#0{}b'.format(length + 2))\n",
    "\n",
    "\n",
    "class switching_class:\n",
    "    fujilandscape1 = fuji(optimal_genotype=0, n=6)\n",
    "    fujilandscape2 = fuji(optimal_genotype=63, n=6)\n",
    "\n",
    "    def __init__(self, n):\n",
    "        self.n = n\n",
    "        # start in the middle of the range of values\n",
    "        self.bitstring = 2**(n-1)\n",
    "        self.__current_fuji__ = self.fujilandscape1\n",
    "\n",
    "    def __fitness__(self):\n",
    "        return self.__current_fuji__.fitness(self.bitstring)\n",
    "\n",
    "    def __mutate__(self):\n",
    "        bstr = binary(self.bitstring, self.n)[2:]\n",
    "        for _ in range(1):\n",
    "            bstr = list(bstr)\n",
    "            flip_index = randint(0, self.fujilandscape1.n - 1)\n",
    "            bstr[flip_index] = '0' if bstr[flip_index] == '1' else '1'\n",
    "            bstr = ''.join(bstr)\n",
    "        self.bitstring = int(bstr, 2)\n",
    "    \n",
    "    @lru_cache(maxsize=64)\n",
    "    def __mutational_neighborhood__(self):\n",
    "        neighborhood = []\n",
    "        for i in range(self.n):\n",
    "            neighbor = self.__IndiGrow__.genotype_deepcopy(self)\n",
    "            bstr = list(binary(neighbor.bitstring, self.n)[2:])\n",
    "            bstr[i] = '0' if bstr[i] == '1' else '1'\n",
    "            bstr = ''.join(bstr)\n",
    "            neighbor.bitstring = int(bstr, 2)\n",
    "            neighborhood.append(neighbor)\n",
    "        return neighborhood"
   ]
  },
  {
   "cell_type": "code",
   "execution_count": 96,
   "metadata": {},
   "outputs": [],
   "source": [
    "class switching_event:\n",
    "    def __init__(self):\n",
    "        self.__IndiGrow__ = None\n",
    "        self.state = 1\n",
    "    \n",
    "    def __run_handler__(self):\n",
    "        for node in self.__IndiGrow__.population.vs():\n",
    "            if self.state == 1:\n",
    "                node['genotype'].__current_fuji__ = node['genotype'].fujilandscape2\n",
    "            else:\n",
    "                node['genotype'].__current_fuji__ = node['genotype'].fujilandscape1\n",
    "        \n",
    "        self.state = 2 if self.state == 1 else 1\n",
    "        self.__IndiGrow__.mark_as_dirty(all_dirty=True)\n",
    "\n",
    "import json\n",
    "\n",
    "class print_event:\n",
    "    def __init__(self):\n",
    "        self.__IndiGrow__ = None\n",
    "         # clear current contents of file\n",
    "        open('distance_data.txt', 'w').close()\n",
    "    \n",
    "    def __run_handler__(self):\n",
    "        frequencies = {}\n",
    "        for i in self.__IndiGrow__.population.vs:\n",
    "            frequencies[i['genotype'].bitstring] = i['frequency']\n",
    "        with open('distance_data.txt', 'a+') as write_file:\n",
    "            write_file.write(json.dumps(frequencies) + '\\n')\n"
   ]
  },
  {
   "cell_type": "code",
   "execution_count": 97,
   "metadata": {
    "tags": [
     "outputPrepend"
    ]
   },
   "outputs": [],
   "source": [
    "from IndiGrow.IndiGrow import IndiGrow\n",
    "import random\n",
    "import numpy\n",
    "\n",
    "random.seed(182)\n",
    "numpy.random.seed(1277)\n",
    "\n",
    "population_size = 10E7\n",
    "mutation_rate = 10E-4\n",
    "\n",
    "test = IndiGrow(population_size=population_size, mutation_rate=mutation_rate)\n",
    "\n",
    "test.add_genotype(genotype=switching_class(n=6), frequency=1)\n",
    "test.add_event(event_class=switching_event, trigger_every=100)\n",
    "test.add_event(event_class=print_event, trigger_every=1)\n",
    "\n",
    "\n",
    "\n",
    "\n",
    "for i in range(1000):\n",
    "    test.timestep()\n"
   ]
  },
  {
   "cell_type": "code",
   "execution_count": 110,
   "metadata": {
    "tags": [
     "outputPrepend"
    ]
   },
   "outputs": [
    {
     "output_type": "stream",
     "name": "stdout",
     "text": "['0', '1', '16', '2', '32', '35', '37', '38', '4', '41', '42', '44', '49', '50', '52', '56', '8']\n"
    }
   ],
   "source": [
    "import json\n",
    "import collections\n",
    "\n",
    "distance_data = []\n",
    "with open('distance_data.txt', 'r') as f:\n",
    "    for line in f:\n",
    "        #distance_data.append((sorted(dict(json.loads(line).items()))))\n",
    "        sort_orders = sorted(dict(json.loads(line)).items())\n",
    "        distance_data.append(sort_orders)\n",
    "print(distance_data[2])\n",
    "# rock_frequencies, paper_frequencies, scissors_frequencies = [], [], []\n",
    "\n",
    "# for data in rps_data:\n",
    "#     rock_frequencies.append(data['rock'])\n",
    "#     paper_frequencies.append(data['paper'])\n",
    "#     scissors_frequencies.append(data['scissors'])"
   ]
  },
  {
   "cell_type": "code",
   "execution_count": null,
   "metadata": {},
   "outputs": [],
   "source": []
  }
 ],
 "metadata": {
  "kernelspec": {
   "display_name": "Python 3.7.6 64-bit",
   "language": "python",
   "name": "python37664bitfa39f342730d4e4585d4892491c29ea3"
  },
  "language_info": {
   "codemirror_mode": {
    "name": "ipython",
    "version": 3
   },
   "file_extension": ".py",
   "mimetype": "text/x-python",
   "name": "python",
   "nbconvert_exporter": "python",
   "pygments_lexer": "ipython3",
   "version": "3.7.6-final"
  }
 },
 "nbformat": 4,
 "nbformat_minor": 2
}